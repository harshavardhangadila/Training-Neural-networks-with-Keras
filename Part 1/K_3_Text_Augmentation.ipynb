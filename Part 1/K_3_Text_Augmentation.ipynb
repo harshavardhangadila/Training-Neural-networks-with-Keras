{
 "nbformat": 4,
 "nbformat_minor": 0,
 "metadata": {
  "colab": {
   "provenance": [],
   "gpuType": "T4"
  },
  "kernelspec": {
   "name": "python3",
   "display_name": "Python 3"
  },
  "language_info": {
   "name": "python"
  },
  "accelerator": "GPU"
 },
 "cells": [
  {
   "cell_type": "markdown",
   "source": [
    "\n",
    "<a href=\"https://colab.research.google.com/drive/1gc1UqNWjjAHv-T4fGGWvE9GC4YtqXkid?usp=sharing\">\n",
    "  <img src=\"https://colab.research.google.com/assets/colab-badge.svg\" alt=\"Open in Colab\"/>\n",
    "</a>"
   ],
   "metadata": {
    "id": "WiytxS3UABkR"
   }
  },
  {
   "cell_type": "code",
   "execution_count": null,
   "metadata": {
    "colab": {
     "base_uri": "https://localhost:8080/"
    },
    "id": "0gr1bkfR92rv",
    "outputId": "e4140987-693b-49a7-fa4c-35b9e096c4e8"
   },
   "outputs": [
    {
     "output_type": "stream",
     "name": "stdout",
     "text": [
      "\u001b[?25l   \u001b[90m\u2501\u2501\u2501\u2501\u2501\u2501\u2501\u2501\u2501\u2501\u2501\u2501\u2501\u2501\u2501\u2501\u2501\u2501\u2501\u2501\u2501\u2501\u2501\u2501\u2501\u2501\u2501\u2501\u2501\u2501\u2501\u2501\u2501\u2501\u2501\u2501\u2501\u2501\u2501\u2501\u001b[0m \u001b[32m0.0/410.5 kB\u001b[0m \u001b[31m?\u001b[0m eta \u001b[36m-:--:--\u001b[0m\r\u001b[2K   \u001b[90m\u2501\u2501\u2501\u2501\u2501\u2501\u2501\u2501\u2501\u2501\u2501\u2501\u2501\u2501\u2501\u2501\u2501\u2501\u2501\u2501\u2501\u2501\u2501\u2501\u2501\u2501\u2501\u2501\u2501\u2501\u2501\u2501\u2501\u2501\u2501\u2501\u2501\u2501\u2501\u2501\u001b[0m \u001b[32m410.5/410.5 kB\u001b[0m \u001b[31m13.0 MB/s\u001b[0m eta \u001b[36m0:00:00\u001b[0m\n",
      "\u001b[?25h"
     ]
    }
   ],
   "source": [
    "# Install nlpaug and transformers silently\n",
    "!pip install -q nlpaug transformers\n"
   ]
  },
  {
   "cell_type": "code",
   "source": [
    "# Import modules\n",
    "import nlpaug.augmenter.word as naw\n",
    "import random\n",
    "import matplotlib.pyplot as plt\n"
   ],
   "metadata": {
    "id": "Q1KT1r6f96KD"
   },
   "execution_count": null,
   "outputs": []
  },
  {
   "cell_type": "code",
   "source": [
    "# Sample text examples\n",
    "sample_texts = [\n",
    "    \"The movie was fantastic and had a great storyline.\",\n",
    "    \"I absolutely loved the performance of the lead actor.\",\n",
    "    \"The plot was dull and predictable.\",\n",
    "    \"This was a waste of time, I wouldn\u2019t recommend it.\",\n",
    "    \"Cinematography and music were top notch.\"\n",
    "]\n"
   ],
   "metadata": {
    "id": "yiU4uAOp96Mz"
   },
   "execution_count": null,
   "outputs": []
  },
  {
   "cell_type": "code",
   "source": [
    "# Create augmenters\n",
    "swap_augmenter = naw.RandomWordAug(action=\"swap\")\n",
    "delete_augmenter = naw.RandomWordAug(action=\"delete\")\n",
    "bert_augmenter = naw.ContextualWordEmbsAug(model_path='bert-base-uncased', action=\"substitute\")\n"
   ],
   "metadata": {
    "colab": {
     "base_uri": "https://localhost:8080/",
     "height": 336,
     "referenced_widgets": [
      "30cd4747077b490da0af17c7aaa856ed",
      "e21bae31c7a44d4ca4b0b3d31b12afa8",
      "3d3d9d7fcc184ba48ca1615a09384360",
      "3fe026dd451948f9b8b63427a4444d35",
      "8d7e3a640ea548a086939b614d43078b",
      "f3f227ae63ee4242971454ad3bdb8420",
      "57ae2bc186e840429e4b137baea4ec2c",
      "5d7c5ae586c34cce9332f4c5d197543e",
      "900394236d0e4e0081789f4b1b7d0e7e",
      "aa17ce4a9a0242f2a67ea1a473cf5499",
      "77057c0752084fc5b0c8129bba82a91e",
      "2d3cee781d8742e390dd477d870cb5e4",
      "bcf1aeb97178457782fbb4974b3873ad",
      "0c5529cbd52941b986fa88e34bc6f3b8",
      "8a0695ef5e87462aa7076a58f60cd5e4",
      "be6cc30d2efe48ef9cd95c7d05b7a8d3",
      "f20e108b0ae54ac490aded3b5ba3ffde",
      "d513f84bc78b4079a00df65ae5969dc9",
      "616214d89a0246f38e4fd9b9b8ebdaa8",
      "b3136af5dd77486592daec0412993eeb",
      "736ee72be19c46d18099e16b3b39664a",
      "5ce8e37be2394fb0ab275e9daeb2e57b",
      "d196ced2dc6e45ba82b1ca6c7cb2151a",
      "e95e5374dd5e4418836a3ab2405a71a5",
      "c94ae4cc3e49489691a914ced96345c6",
      "e823aab0654c4cbbbc740dd33443631a",
      "44f2c56609ab455bba94cc6bbd59b2a8",
      "c2d42edece3246a18216d821be05a214",
      "22e9acfb97314c81b78fd0bf08633224",
      "75876f9467004fc694b2870ca25eac5b",
      "5f7f2ba256b64873b5ed96165bc65c7d",
      "ae44e0e0169744b4b296b3dfeb4c9263",
      "34d145d2ca664be893f003806719cbdc",
      "c68641d39ee147fe9b2a8f872ba4dfd9",
      "6318b8f1ad794cb286c04fec6e1f54a2",
      "c64e53b418494080821991e4111b8448",
      "e5ce3f6566204bc88aa492954e6248b4",
      "57e341f7d067443bab1fa0497c55b716",
      "501a7ede7c5c46268e9d10d38958f201",
      "f69c7bf5e3014d92bd7e536cc1214e6d",
      "66f95c89a33f4ed1a5b961416d95b16e",
      "4007825df1bb405497e7dcfeb6c75dac",
      "c9713f3998014742a4d83a8895e22f6d",
      "a36741fec172468e87db558474af091e",
      "a837ab727a6a474bb9b5ee4ce5b5ba3f",
      "ce43045cfdeb417ba982c60a09b7e950",
      "6bfcb46ccaa946b9b30ad025b4c1a36e",
      "3599283a4aaa47919d8f96b2a3b82c0f",
      "e7cebbbf1a114705a2cf5c3e4f19cd1a",
      "8940258c6e05459f847db7427d4dea84",
      "f36ff5433ff640438b60efbbe216de19",
      "e4fe40dd6d124555a830f73eeb2cb50f",
      "79bda744d0d44aaab7501bc1118f8bf5",
      "529b5d16259349d19b2dcecebf0d9efe",
      "bca035c877714e8a9a52a9ad373fe968"
     ]
    },
    "id": "V-0EPD5w96Pq",
    "outputId": "371b1742-671c-4cd7-8820-b14775e8f118"
   },
   "execution_count": null,
   "outputs": [
    {
     "output_type": "stream",
     "name": "stderr",
     "text": [
      "/usr/local/lib/python3.11/dist-packages/huggingface_hub/utils/_auth.py:94: UserWarning: \n",
      "The secret `HF_TOKEN` does not exist in your Colab secrets.\n",
      "To authenticate with the Hugging Face Hub, create a token in your settings tab (https://huggingface.co/settings/tokens), set it as secret in your Google Colab and restart your session.\n",
      "You will be able to reuse this secret in all of your notebooks.\n",
      "Please note that authentication is recommended but still optional to access public models or datasets.\n",
      "  warnings.warn(\n"
     ]
    },
    {
     "output_type": "display_data",
     "data": {
      "text/plain": [
       "tokenizer_config.json:   0%|          | 0.00/48.0 [00:00<?, ?B/s]"
      ],
      "application/vnd.jupyter.widget-view+json": {
       "version_major": 2,
       "version_minor": 0,
       "model_id": "30cd4747077b490da0af17c7aaa856ed"
      }
     },
     "metadata": {}
    },
    {
     "output_type": "display_data",
     "data": {
      "text/plain": [
       "config.json:   0%|          | 0.00/570 [00:00<?, ?B/s]"
      ],
      "application/vnd.jupyter.widget-view+json": {
       "version_major": 2,
       "version_minor": 0,
       "model_id": "2d3cee781d8742e390dd477d870cb5e4"
      }
     },
     "metadata": {}
    },
    {
     "output_type": "display_data",
     "data": {
      "text/plain": [
       "vocab.txt:   0%|          | 0.00/232k [00:00<?, ?B/s]"
      ],
      "application/vnd.jupyter.widget-view+json": {
       "version_major": 2,
       "version_minor": 0,
       "model_id": "d196ced2dc6e45ba82b1ca6c7cb2151a"
      }
     },
     "metadata": {}
    },
    {
     "output_type": "display_data",
     "data": {
      "text/plain": [
       "tokenizer.json:   0%|          | 0.00/466k [00:00<?, ?B/s]"
      ],
      "application/vnd.jupyter.widget-view+json": {
       "version_major": 2,
       "version_minor": 0,
       "model_id": "c68641d39ee147fe9b2a8f872ba4dfd9"
      }
     },
     "metadata": {}
    },
    {
     "output_type": "stream",
     "name": "stderr",
     "text": [
      "Xet Storage is enabled for this repo, but the 'hf_xet' package is not installed. Falling back to regular HTTP download. For better performance, install the package with: `pip install huggingface_hub[hf_xet]` or `pip install hf_xet`\n",
      "WARNING:huggingface_hub.file_download:Xet Storage is enabled for this repo, but the 'hf_xet' package is not installed. Falling back to regular HTTP download. For better performance, install the package with: `pip install huggingface_hub[hf_xet]` or `pip install hf_xet`\n"
     ]
    },
    {
     "output_type": "display_data",
     "data": {
      "text/plain": [
       "model.safetensors:   0%|          | 0.00/440M [00:00<?, ?B/s]"
      ],
      "application/vnd.jupyter.widget-view+json": {
       "version_major": 2,
       "version_minor": 0,
       "model_id": "a837ab727a6a474bb9b5ee4ce5b5ba3f"
      }
     },
     "metadata": {}
    }
   ]
  },
  {
   "cell_type": "code",
   "source": [
    "# Show original and augmented versions\n",
    "print(\"Comparing Original vs Augmented Texts (Swap / Delete / BERT Substitute):\\n\")\n",
    "for sentence in sample_texts:\n",
    "    print(f\"Original:   {sentence}\")\n",
    "    print(f\"Swap Aug:   {swap_augmenter.augment(sentence)}\")\n",
    "    print(f\"Delete Aug: {delete_augmenter.augment(sentence)}\")\n",
    "    print(f\"BERT Aug:   {bert_augmenter.augment(sentence)}\")\n",
    "    print(\"-\" * 50)\n"
   ],
   "metadata": {
    "colab": {
     "base_uri": "https://localhost:8080/"
    },
    "id": "eXKukJlI9_YG",
    "outputId": "ac5ffd12-0450-4bd6-9278-bdaaad3def7b"
   },
   "execution_count": null,
   "outputs": [
    {
     "output_type": "stream",
     "name": "stdout",
     "text": [
      "Comparing Original vs Augmented Texts (Swap / Delete / BERT Substitute):\n",
      "\n",
      "Original:   The movie was fantastic and had a great storyline.\n",
      "Swap Aug:   ['The was movie fantastic and had great storyline a.']\n",
      "Delete Aug: ['The fantastic and a great storyline.']\n",
      "BERT Aug:   ['the work was good and had a great story.']\n",
      "--------------------------------------------------\n",
      "Original:   I absolutely loved the performance of the lead actor.\n",
      "Swap Aug:   ['I absolutely loved the performance of the actor lead.']\n",
      "Delete Aug: ['I performance of the lead actor.']\n",
      "BERT Aug:   ['i just loved that performance of that lead actor.']\n",
      "--------------------------------------------------\n",
      "Original:   The plot was dull and predictable.\n",
      "Swap Aug:   ['Plot the dull was predictable and.']\n",
      "Delete Aug: ['Plot was dull.']\n",
      "BERT Aug:   ['the plot being simple and tragic.']\n",
      "--------------------------------------------------\n",
      "Original:   This was a waste of time, I wouldn\u2019t recommend it.\n",
      "Swap Aug:   ['This was a of waste time, \u2019 I recommend wouldn t it.']\n",
      "Delete Aug: ['Was a waste of time, I it.']\n",
      "BERT Aug:   ['this was a bigger than time, and wouldn t t recommend but.']\n",
      "--------------------------------------------------\n",
      "Original:   Cinematography and music were top notch.\n",
      "Swap Aug:   ['And cinematography were music notch top.']\n",
      "Delete Aug: ['Cinematography and top.']\n",
      "BERT Aug:   ['film and music of first notch.']\n",
      "--------------------------------------------------\n"
     ]
    }
   ]
  },
  {
   "cell_type": "code",
   "source": [
    "# Compare word counts before and after swap augmentation\n",
    "original_lengths = []\n",
    "swap_lengths = []\n",
    "num_samples = 50\n",
    "\n",
    "for _ in range(num_samples):\n",
    "    idx = random.randint(0, len(sample_texts) - 1)\n",
    "    original = sample_texts[idx].split()\n",
    "\n",
    "    augmented_text = swap_augmenter.augment(sample_texts[idx])\n",
    "    if isinstance(augmented_text, list):\n",
    "        augmented_text = augmented_text[0]\n",
    "    augmented = augmented_text.split()\n",
    "\n",
    "    original_lengths.append(len(original))\n",
    "    swap_lengths.append(len(augmented))\n",
    "\n",
    "# Plot histograms\n",
    "plt.figure(figsize=(8, 5))\n",
    "plt.hist([original_lengths, swap_lengths], bins=8, label=[\"Original\", \"Swap-Augmented\"])\n",
    "plt.title(\"Word Count Distribution: Original vs Swap-Augmented Texts\")\n",
    "plt.xlabel(\"Word Count\")\n",
    "plt.ylabel(\"Frequency\")\n",
    "plt.legend()\n",
    "plt.grid(True)\n",
    "plt.show()\n"
   ],
   "metadata": {
    "colab": {
     "base_uri": "https://localhost:8080/",
     "height": 487
    },
    "id": "Ozdb-9-f-Ang",
    "outputId": "4180a2b5-1990-42f9-a971-1e71de05ce3e"
   },
   "execution_count": null,
   "outputs": [
    {
     "output_type": "display_data",
     "data": {
      "text/plain": [
       "<Figure size 800x500 with 1 Axes>"
      ],
      "image/png": "[encoded data removed]"
     },
     "metadata": {}
    }
   ]
  }
 ]
}